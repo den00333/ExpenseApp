{
  "nbformat": 4,
  "nbformat_minor": 0,
  "metadata": {
    "colab": {
      "provenance": [],
      "mount_file_id": "1b1W1vaWmGxBT_lHL77ZjWXxu2YTqVP1W",
      "authorship_tag": "ABX9TyN0d/wUN1o38wGmTdWr6qlg",
      "include_colab_link": true
    },
    "kernelspec": {
      "name": "python3",
      "display_name": "Python 3"
    },
    "language_info": {
      "name": "python"
    }
  },
  "cells": [
    {
      "cell_type": "markdown",
      "metadata": {
        "id": "view-in-github",
        "colab_type": "text"
      },
      "source": [
        "<a href=\"https://colab.research.google.com/github/den00333/ExpenseApp/blob/master/malware2.ipynb\" target=\"_parent\"><img src=\"https://colab.research.google.com/assets/colab-badge.svg\" alt=\"Open In Colab\"/></a>"
      ]
    },
    {
      "cell_type": "code",
      "execution_count": null,
      "metadata": {
        "colab": {
          "base_uri": "https://localhost:8080/"
        },
        "id": "jvwHOYG6D3vw",
        "outputId": "83b150e9-49db-44b0-ec2b-4bc272419d09"
      },
      "outputs": [
        {
          "output_type": "execute_result",
          "data": {
            "text/plain": [
              "legitimate\n",
              "0    96724\n",
              "1    41323\n",
              "Name: count, dtype: int64"
            ]
          },
          "metadata": {},
          "execution_count": 1
        }
      ],
      "source": [
        "import pandas as pd\n",
        "\n",
        "malData = pd.read_csv('/content/drive/MyDrive/MalwareData.csv', sep='|')\n",
        "\n",
        "pd.set_option('display.max_columns', None)\n",
        "pd.set_option('display.max_rows', None)\n",
        "malData['legitimate'].value_counts()"
      ]
    },
    {
      "cell_type": "code",
      "source": [
        "from google.colab import drive\n",
        "drive.mount('/content/drive')"
      ],
      "metadata": {
        "id": "btr0tBo_r-kl"
      },
      "execution_count": null,
      "outputs": []
    },
    {
      "cell_type": "code",
      "source": [
        "noLegitimateData = malData.drop(['legitimate'], axis=1)"
      ],
      "metadata": {
        "id": "GVPXs32iECx2"
      },
      "execution_count": null,
      "outputs": []
    },
    {
      "cell_type": "code",
      "source": [
        "noLegitimateData = malData"
      ],
      "metadata": {
        "id": "q1NpfQIPLeQb"
      },
      "execution_count": null,
      "outputs": []
    },
    {
      "cell_type": "code",
      "source": [
        "normal = noLegitimateData[0:41323]\n",
        "malware = noLegitimateData[41323::]"
      ],
      "metadata": {
        "id": "9EowVwOmEFVt"
      },
      "execution_count": null,
      "outputs": []
    },
    {
      "cell_type": "code",
      "source": [
        "malware.head(10)"
      ],
      "metadata": {
        "id": "2mE9pHBPLh8a",
        "outputId": "cfdccb72-91fa-4de3-8ec0-d07e0fba3872",
        "colab": {
          "base_uri": "https://localhost:8080/",
          "height": 383
        }
      },
      "execution_count": null,
      "outputs": [
        {
          "output_type": "execute_result",
          "data": {
            "text/plain": [
              "                                              Name  \\\n",
              "41323  VirusShare_4a400b747afe6547e09ce0b02dae7f1c   \n",
              "41324  VirusShare_9bd57c8252948bd2fa651ad372bd4f13   \n",
              "41325  VirusShare_d1456165e9358b8f61f93a5f2042f39c   \n",
              "41326  VirusShare_e4214cc73afbba0f52bb72d5db8f8bb1   \n",
              "41327  VirusShare_710890c07b3f93b90635f8bff6c34605   \n",
              "41328  VirusShare_3c2eb01508703752dca01957ea451a40   \n",
              "41329  VirusShare_3fb2d0ac00c5dff6c4fd5dfe6ba52c3f   \n",
              "41330  VirusShare_ad1ca9a4d572c0a2793c4cea29b20887   \n",
              "41331  VirusShare_7414edb3d0be66aa0816e6ed4b6b0a21   \n",
              "41332  VirusShare_e57b4f294c142d050a784b67e2cf1f2e   \n",
              "\n",
              "                                    md5  Machine  SizeOfOptionalHeader  \\\n",
              "41323  4a400b747afe6547e09ce0b02dae7f1c      332                   224   \n",
              "41324  9bd57c8252948bd2fa651ad372bd4f13      332                   224   \n",
              "41325  d1456165e9358b8f61f93a5f2042f39c      332                   224   \n",
              "41326  e4214cc73afbba0f52bb72d5db8f8bb1      332                   224   \n",
              "41327  710890c07b3f93b90635f8bff6c34605      332                   224   \n",
              "41328  3c2eb01508703752dca01957ea451a40      332                   224   \n",
              "41329  3fb2d0ac00c5dff6c4fd5dfe6ba52c3f      332                   224   \n",
              "41330  ad1ca9a4d572c0a2793c4cea29b20887      332                   224   \n",
              "41331  7414edb3d0be66aa0816e6ed4b6b0a21      332                   224   \n",
              "41332  e57b4f294c142d050a784b67e2cf1f2e      332                   224   \n",
              "\n",
              "       Characteristics  MajorLinkerVersion  MinorLinkerVersion  SizeOfCode  \\\n",
              "41323              258                  11                   0      354816   \n",
              "41324              271                   6                   0       24064   \n",
              "41325              258                  10                   0      118784   \n",
              "41326              258                  10                   0      174592   \n",
              "41327              258                   9                   0      475648   \n",
              "41328              259                   9                   0      157696   \n",
              "41329              259                  83                  82      724992   \n",
              "41330              258                  10                   0      120320   \n",
              "41331              259                  10                   0      233984   \n",
              "41332              271                   6                   0       49152   \n",
              "\n",
              "       SizeOfInitializedData  SizeOfUninitializedData  AddressOfEntryPoint  \\\n",
              "41323                 257024                        0               183632   \n",
              "41324                 164864                     1024                12538   \n",
              "41325                 381952                        0                59914   \n",
              "41326                 300032                        0               117140   \n",
              "41327                 348672                        0               319769   \n",
              "41328                  62464                        0                67015   \n",
              "41329                2306048                        0              4243456   \n",
              "41330                 385024                        0                61578   \n",
              "41331                1377792                        0                93120   \n",
              "41332                 561152                        0                33880   \n",
              "\n",
              "       BaseOfCode  BaseOfData  ImageBase  SectionAlignment  FileAlignment  \\\n",
              "41323        4096      360448  4194304.0              4096            512   \n",
              "41324        4096       28672  4194304.0              4096            512   \n",
              "41325        4096      122880  4194304.0              4096            512   \n",
              "41326        4096      180224  4194304.0              4096            512   \n",
              "41327        4096      483328  4194304.0              4096            512   \n",
              "41328        4096      163840  4194304.0              4096            512   \n",
              "41329     3522560     4308992  4194304.0              4096           4096   \n",
              "41330        4096      126976  4194304.0              4096            512   \n",
              "41331        4096      241664  4194304.0              4096            512   \n",
              "41332        4096       53248  4194304.0              4096           4096   \n",
              "\n",
              "       MajorOperatingSystemVersion  MinorOperatingSystemVersion  \\\n",
              "41323                            5                            1   \n",
              "41324                            4                            0   \n",
              "41325                            5                            1   \n",
              "41326                            5                            1   \n",
              "41327                            5                            0   \n",
              "41328                            5                            0   \n",
              "41329                            5                            0   \n",
              "41330                            5                            1   \n",
              "41331                            5                            1   \n",
              "41332                            4                            0   \n",
              "\n",
              "       MajorImageVersion  MinorImageVersion  MajorSubsystemVersion  \\\n",
              "41323                  0                  0                      5   \n",
              "41324                  6                  0                      4   \n",
              "41325                  0                  0                      5   \n",
              "41326                  0                  0                      5   \n",
              "41327                  0                  0                      5   \n",
              "41328                  0                  0                      5   \n",
              "41329                  0                  0                      5   \n",
              "41330                  0                  0                      5   \n",
              "41331                  0                  0                      5   \n",
              "41332                  0                  0                      4   \n",
              "\n",
              "       MinorSubsystemVersion  SizeOfImage  SizeOfHeaders    CheckSum  \\\n",
              "41323                      1       626688           1024           0   \n",
              "41324                      0       241664           1024           0   \n",
              "41325                      1       520192           1024      558287   \n",
              "41326                      1       487424           1024      513173   \n",
              "41327                      0       856064           1024  1820725856   \n",
              "41328                      0       233472           1024      272988   \n",
              "41329                      0      6709248           4096     3077047   \n",
              "41330                      1       528384           1024      566330   \n",
              "41331                      1      1630208           1024     1661509   \n",
              "41332                      0       614400           4096           0   \n",
              "\n",
              "       Subsystem  DllCharacteristics  SizeOfStackReserve  SizeOfStackCommit  \\\n",
              "41323          2               33088             1048576               4096   \n",
              "41324          2               32768             1048576               4096   \n",
              "41325          2               33088             1048576               4096   \n",
              "41326          2               33088             1048576               4096   \n",
              "41327          2               33088             1048576               4096   \n",
              "41328          2               33024             1048576               4096   \n",
              "41329          2               32768             1048576               4096   \n",
              "41330          2               33088             1048576               4096   \n",
              "41331          2               33280             1048576               4096   \n",
              "41332          2                   0             1048576               4096   \n",
              "\n",
              "       SizeOfHeapReserve  SizeOfHeapCommit  LoaderFlags  NumberOfRvaAndSizes  \\\n",
              "41323            1048576              4096            0                   16   \n",
              "41324            1048576              4096            0                   16   \n",
              "41325            1048576              4096            0                   16   \n",
              "41326            1048576              4096            0                   16   \n",
              "41327            1048576              4096            0                   16   \n",
              "41328            1048576              4096            0                   16   \n",
              "41329            1048576              4096            0                   16   \n",
              "41330            1048576              4096            0                   16   \n",
              "41331            1048576              4096            0                   16   \n",
              "41332            1048576              4096            0                   16   \n",
              "\n",
              "       SectionsNb  SectionsMeanEntropy  SectionsMinEntropy  \\\n",
              "41323           5             4.590397            2.378947   \n",
              "41324           5             4.104541            0.000000   \n",
              "41325           5             5.662408            4.183692   \n",
              "41326           5             5.735470            4.758260   \n",
              "41327           5             5.139934            4.480790   \n",
              "41328           4             4.819885            2.977365   \n",
              "41329           9             3.783125            0.000000   \n",
              "41330           5             5.646444            4.117264   \n",
              "41331           3             5.460681            3.139628   \n",
              "41332           4             3.699258            0.000000   \n",
              "\n",
              "       SectionsMaxEntropy  SectionsMeanRawsize  SectionsMinRawsize  \\\n",
              "41323            6.296826        120524.800000                7680   \n",
              "41324            6.440106          6758.400000                   0   \n",
              "41325            7.961871        100147.200000                9216   \n",
              "41326            7.364313         93081.600000               15360   \n",
              "41327            6.558149        164864.000000               13824   \n",
              "41328            6.485124         55040.000000                3584   \n",
              "41329            7.999518        336782.222222                   0   \n",
              "41330            7.962776        101068.800000                9728   \n",
              "41331            7.090099        537258.666667                5632   \n",
              "41332            6.482974         19460.000000                  16   \n",
              "\n",
              "       SectionMaxRawsize  SectionsMeanVirtualsize  SectionsMinVirtualsize  \\\n",
              "41323             354816            122148.600000                   16468   \n",
              "41324              24064             46260.800000                    3144   \n",
              "41325             334848            101559.800000                    9368   \n",
              "41326             192000             94698.800000                   21500   \n",
              "41327             475648            168145.200000                   30840   \n",
              "41328             157696             55626.750000                    6700   \n",
              "41329            1884160            744182.333333                    2272   \n",
              "41330             330752            102623.800000                    9404   \n",
              "41331            1372160            539602.666667                   13316   \n",
              "41332              49152            150074.000000                      16   \n",
              "\n",
              "       SectionMaxVirtualsize  ImportsNbDLL  ImportsNb  ImportsNbOrdinal  \\\n",
              "41323                 354799             7        138                 0   \n",
              "41324                 154712             8        155                 1   \n",
              "41325                 334440             7        114                 0   \n",
              "41326                 191664            11        254                15   \n",
              "41327                 475580            14        421                15   \n",
              "41328                 157297             2         76                 0   \n",
              "41329                3061299             4        243                 0   \n",
              "41330                 339652             3         89                 0   \n",
              "41331                1371856             1         80                 0   \n",
              "41332                 548460             4        119                10   \n",
              "\n",
              "       ExportNb  ResourcesNb  ResourcesMeanEntropy  ResourcesMinEntropy  \\\n",
              "41323         0            7              3.914415             1.441688   \n",
              "41324         0            6              3.199107             1.971335   \n",
              "41325         0           18              6.530946             2.458492   \n",
              "41326         0           15              5.732393             2.852364   \n",
              "41327         0           59              2.827826             0.960953   \n",
              "41328         0           13              3.943296             1.814443   \n",
              "41329         0           21              3.987463             2.642159   \n",
              "41330         0            6              3.729824             2.458492   \n",
              "41331         0           18              4.328322             2.323220   \n",
              "41332         0            0              0.000000             0.000000   \n",
              "\n",
              "       ResourcesMaxEntropy  ResourcesMeanSize  ResourcesMinSize  \\\n",
              "41323             7.677091        7298.428571                16   \n",
              "41324             5.214816         452.000000                34   \n",
              "41325             7.992688       18523.444444                48   \n",
              "41326             7.987726       12706.133333               118   \n",
              "41327             7.212329        2637.033898                20   \n",
              "41328             6.122045        2708.153846               132   \n",
              "41329             6.473700       14288.000000                76   \n",
              "41330             5.317552        2739.500000                48   \n",
              "41331             7.068413       76158.277778                 9   \n",
              "41332             0.000000           0.000000                 0   \n",
              "\n",
              "       ResourcesMaxSize  LoadConfigurationSize  VersionInformationSize  \\\n",
              "41323             28438                     72                       0   \n",
              "41324               958                      0                      15   \n",
              "41325             33945                     72                      14   \n",
              "41326             60500                     72                      14   \n",
              "41327             67624                     72                       0   \n",
              "41328              9640                     72                      14   \n",
              "41329            270376                      0                       0   \n",
              "41330              9640                     72                      15   \n",
              "41331           1342735                     72                      19   \n",
              "41332                 0                      0                       0   \n",
              "\n",
              "       legitimate  \n",
              "41323           0  \n",
              "41324           0  \n",
              "41325           0  \n",
              "41326           0  \n",
              "41327           0  \n",
              "41328           0  \n",
              "41329           0  \n",
              "41330           0  \n",
              "41331           0  \n",
              "41332           0  "
            ],
            "text/html": [
              "\n",
              "  <div id=\"df-315d711b-8c6b-492e-bc68-0af22407037d\" class=\"colab-df-container\">\n",
              "    <div>\n",
              "<style scoped>\n",
              "    .dataframe tbody tr th:only-of-type {\n",
              "        vertical-align: middle;\n",
              "    }\n",
              "\n",
              "    .dataframe tbody tr th {\n",
              "        vertical-align: top;\n",
              "    }\n",
              "\n",
              "    .dataframe thead th {\n",
              "        text-align: right;\n",
              "    }\n",
              "</style>\n",
              "<table border=\"1\" class=\"dataframe\">\n",
              "  <thead>\n",
              "    <tr style=\"text-align: right;\">\n",
              "      <th></th>\n",
              "      <th>Name</th>\n",
              "      <th>md5</th>\n",
              "      <th>Machine</th>\n",
              "      <th>SizeOfOptionalHeader</th>\n",
              "      <th>Characteristics</th>\n",
              "      <th>MajorLinkerVersion</th>\n",
              "      <th>MinorLinkerVersion</th>\n",
              "      <th>SizeOfCode</th>\n",
              "      <th>SizeOfInitializedData</th>\n",
              "      <th>SizeOfUninitializedData</th>\n",
              "      <th>AddressOfEntryPoint</th>\n",
              "      <th>BaseOfCode</th>\n",
              "      <th>BaseOfData</th>\n",
              "      <th>ImageBase</th>\n",
              "      <th>SectionAlignment</th>\n",
              "      <th>FileAlignment</th>\n",
              "      <th>MajorOperatingSystemVersion</th>\n",
              "      <th>MinorOperatingSystemVersion</th>\n",
              "      <th>MajorImageVersion</th>\n",
              "      <th>MinorImageVersion</th>\n",
              "      <th>MajorSubsystemVersion</th>\n",
              "      <th>MinorSubsystemVersion</th>\n",
              "      <th>SizeOfImage</th>\n",
              "      <th>SizeOfHeaders</th>\n",
              "      <th>CheckSum</th>\n",
              "      <th>Subsystem</th>\n",
              "      <th>DllCharacteristics</th>\n",
              "      <th>SizeOfStackReserve</th>\n",
              "      <th>SizeOfStackCommit</th>\n",
              "      <th>SizeOfHeapReserve</th>\n",
              "      <th>SizeOfHeapCommit</th>\n",
              "      <th>LoaderFlags</th>\n",
              "      <th>NumberOfRvaAndSizes</th>\n",
              "      <th>SectionsNb</th>\n",
              "      <th>SectionsMeanEntropy</th>\n",
              "      <th>SectionsMinEntropy</th>\n",
              "      <th>SectionsMaxEntropy</th>\n",
              "      <th>SectionsMeanRawsize</th>\n",
              "      <th>SectionsMinRawsize</th>\n",
              "      <th>SectionMaxRawsize</th>\n",
              "      <th>SectionsMeanVirtualsize</th>\n",
              "      <th>SectionsMinVirtualsize</th>\n",
              "      <th>SectionMaxVirtualsize</th>\n",
              "      <th>ImportsNbDLL</th>\n",
              "      <th>ImportsNb</th>\n",
              "      <th>ImportsNbOrdinal</th>\n",
              "      <th>ExportNb</th>\n",
              "      <th>ResourcesNb</th>\n",
              "      <th>ResourcesMeanEntropy</th>\n",
              "      <th>ResourcesMinEntropy</th>\n",
              "      <th>ResourcesMaxEntropy</th>\n",
              "      <th>ResourcesMeanSize</th>\n",
              "      <th>ResourcesMinSize</th>\n",
              "      <th>ResourcesMaxSize</th>\n",
              "      <th>LoadConfigurationSize</th>\n",
              "      <th>VersionInformationSize</th>\n",
              "      <th>legitimate</th>\n",
              "    </tr>\n",
              "  </thead>\n",
              "  <tbody>\n",
              "    <tr>\n",
              "      <th>41323</th>\n",
              "      <td>VirusShare_4a400b747afe6547e09ce0b02dae7f1c</td>\n",
              "      <td>4a400b747afe6547e09ce0b02dae7f1c</td>\n",
              "      <td>332</td>\n",
              "      <td>224</td>\n",
              "      <td>258</td>\n",
              "      <td>11</td>\n",
              "      <td>0</td>\n",
              "      <td>354816</td>\n",
              "      <td>257024</td>\n",
              "      <td>0</td>\n",
              "      <td>183632</td>\n",
              "      <td>4096</td>\n",
              "      <td>360448</td>\n",
              "      <td>4194304.0</td>\n",
              "      <td>4096</td>\n",
              "      <td>512</td>\n",
              "      <td>5</td>\n",
              "      <td>1</td>\n",
              "      <td>0</td>\n",
              "      <td>0</td>\n",
              "      <td>5</td>\n",
              "      <td>1</td>\n",
              "      <td>626688</td>\n",
              "      <td>1024</td>\n",
              "      <td>0</td>\n",
              "      <td>2</td>\n",
              "      <td>33088</td>\n",
              "      <td>1048576</td>\n",
              "      <td>4096</td>\n",
              "      <td>1048576</td>\n",
              "      <td>4096</td>\n",
              "      <td>0</td>\n",
              "      <td>16</td>\n",
              "      <td>5</td>\n",
              "      <td>4.590397</td>\n",
              "      <td>2.378947</td>\n",
              "      <td>6.296826</td>\n",
              "      <td>120524.800000</td>\n",
              "      <td>7680</td>\n",
              "      <td>354816</td>\n",
              "      <td>122148.600000</td>\n",
              "      <td>16468</td>\n",
              "      <td>354799</td>\n",
              "      <td>7</td>\n",
              "      <td>138</td>\n",
              "      <td>0</td>\n",
              "      <td>0</td>\n",
              "      <td>7</td>\n",
              "      <td>3.914415</td>\n",
              "      <td>1.441688</td>\n",
              "      <td>7.677091</td>\n",
              "      <td>7298.428571</td>\n",
              "      <td>16</td>\n",
              "      <td>28438</td>\n",
              "      <td>72</td>\n",
              "      <td>0</td>\n",
              "      <td>0</td>\n",
              "    </tr>\n",
              "    <tr>\n",
              "      <th>41324</th>\n",
              "      <td>VirusShare_9bd57c8252948bd2fa651ad372bd4f13</td>\n",
              "      <td>9bd57c8252948bd2fa651ad372bd4f13</td>\n",
              "      <td>332</td>\n",
              "      <td>224</td>\n",
              "      <td>271</td>\n",
              "      <td>6</td>\n",
              "      <td>0</td>\n",
              "      <td>24064</td>\n",
              "      <td>164864</td>\n",
              "      <td>1024</td>\n",
              "      <td>12538</td>\n",
              "      <td>4096</td>\n",
              "      <td>28672</td>\n",
              "      <td>4194304.0</td>\n",
              "      <td>4096</td>\n",
              "      <td>512</td>\n",
              "      <td>4</td>\n",
              "      <td>0</td>\n",
              "      <td>6</td>\n",
              "      <td>0</td>\n",
              "      <td>4</td>\n",
              "      <td>0</td>\n",
              "      <td>241664</td>\n",
              "      <td>1024</td>\n",
              "      <td>0</td>\n",
              "      <td>2</td>\n",
              "      <td>32768</td>\n",
              "      <td>1048576</td>\n",
              "      <td>4096</td>\n",
              "      <td>1048576</td>\n",
              "      <td>4096</td>\n",
              "      <td>0</td>\n",
              "      <td>16</td>\n",
              "      <td>5</td>\n",
              "      <td>4.104541</td>\n",
              "      <td>0.000000</td>\n",
              "      <td>6.440106</td>\n",
              "      <td>6758.400000</td>\n",
              "      <td>0</td>\n",
              "      <td>24064</td>\n",
              "      <td>46260.800000</td>\n",
              "      <td>3144</td>\n",
              "      <td>154712</td>\n",
              "      <td>8</td>\n",
              "      <td>155</td>\n",
              "      <td>1</td>\n",
              "      <td>0</td>\n",
              "      <td>6</td>\n",
              "      <td>3.199107</td>\n",
              "      <td>1.971335</td>\n",
              "      <td>5.214816</td>\n",
              "      <td>452.000000</td>\n",
              "      <td>34</td>\n",
              "      <td>958</td>\n",
              "      <td>0</td>\n",
              "      <td>15</td>\n",
              "      <td>0</td>\n",
              "    </tr>\n",
              "    <tr>\n",
              "      <th>41325</th>\n",
              "      <td>VirusShare_d1456165e9358b8f61f93a5f2042f39c</td>\n",
              "      <td>d1456165e9358b8f61f93a5f2042f39c</td>\n",
              "      <td>332</td>\n",
              "      <td>224</td>\n",
              "      <td>258</td>\n",
              "      <td>10</td>\n",
              "      <td>0</td>\n",
              "      <td>118784</td>\n",
              "      <td>381952</td>\n",
              "      <td>0</td>\n",
              "      <td>59914</td>\n",
              "      <td>4096</td>\n",
              "      <td>122880</td>\n",
              "      <td>4194304.0</td>\n",
              "      <td>4096</td>\n",
              "      <td>512</td>\n",
              "      <td>5</td>\n",
              "      <td>1</td>\n",
              "      <td>0</td>\n",
              "      <td>0</td>\n",
              "      <td>5</td>\n",
              "      <td>1</td>\n",
              "      <td>520192</td>\n",
              "      <td>1024</td>\n",
              "      <td>558287</td>\n",
              "      <td>2</td>\n",
              "      <td>33088</td>\n",
              "      <td>1048576</td>\n",
              "      <td>4096</td>\n",
              "      <td>1048576</td>\n",
              "      <td>4096</td>\n",
              "      <td>0</td>\n",
              "      <td>16</td>\n",
              "      <td>5</td>\n",
              "      <td>5.662408</td>\n",
              "      <td>4.183692</td>\n",
              "      <td>7.961871</td>\n",
              "      <td>100147.200000</td>\n",
              "      <td>9216</td>\n",
              "      <td>334848</td>\n",
              "      <td>101559.800000</td>\n",
              "      <td>9368</td>\n",
              "      <td>334440</td>\n",
              "      <td>7</td>\n",
              "      <td>114</td>\n",
              "      <td>0</td>\n",
              "      <td>0</td>\n",
              "      <td>18</td>\n",
              "      <td>6.530946</td>\n",
              "      <td>2.458492</td>\n",
              "      <td>7.992688</td>\n",
              "      <td>18523.444444</td>\n",
              "      <td>48</td>\n",
              "      <td>33945</td>\n",
              "      <td>72</td>\n",
              "      <td>14</td>\n",
              "      <td>0</td>\n",
              "    </tr>\n",
              "    <tr>\n",
              "      <th>41326</th>\n",
              "      <td>VirusShare_e4214cc73afbba0f52bb72d5db8f8bb1</td>\n",
              "      <td>e4214cc73afbba0f52bb72d5db8f8bb1</td>\n",
              "      <td>332</td>\n",
              "      <td>224</td>\n",
              "      <td>258</td>\n",
              "      <td>10</td>\n",
              "      <td>0</td>\n",
              "      <td>174592</td>\n",
              "      <td>300032</td>\n",
              "      <td>0</td>\n",
              "      <td>117140</td>\n",
              "      <td>4096</td>\n",
              "      <td>180224</td>\n",
              "      <td>4194304.0</td>\n",
              "      <td>4096</td>\n",
              "      <td>512</td>\n",
              "      <td>5</td>\n",
              "      <td>1</td>\n",
              "      <td>0</td>\n",
              "      <td>0</td>\n",
              "      <td>5</td>\n",
              "      <td>1</td>\n",
              "      <td>487424</td>\n",
              "      <td>1024</td>\n",
              "      <td>513173</td>\n",
              "      <td>2</td>\n",
              "      <td>33088</td>\n",
              "      <td>1048576</td>\n",
              "      <td>4096</td>\n",
              "      <td>1048576</td>\n",
              "      <td>4096</td>\n",
              "      <td>0</td>\n",
              "      <td>16</td>\n",
              "      <td>5</td>\n",
              "      <td>5.735470</td>\n",
              "      <td>4.758260</td>\n",
              "      <td>7.364313</td>\n",
              "      <td>93081.600000</td>\n",
              "      <td>15360</td>\n",
              "      <td>192000</td>\n",
              "      <td>94698.800000</td>\n",
              "      <td>21500</td>\n",
              "      <td>191664</td>\n",
              "      <td>11</td>\n",
              "      <td>254</td>\n",
              "      <td>15</td>\n",
              "      <td>0</td>\n",
              "      <td>15</td>\n",
              "      <td>5.732393</td>\n",
              "      <td>2.852364</td>\n",
              "      <td>7.987726</td>\n",
              "      <td>12706.133333</td>\n",
              "      <td>118</td>\n",
              "      <td>60500</td>\n",
              "      <td>72</td>\n",
              "      <td>14</td>\n",
              "      <td>0</td>\n",
              "    </tr>\n",
              "    <tr>\n",
              "      <th>41327</th>\n",
              "      <td>VirusShare_710890c07b3f93b90635f8bff6c34605</td>\n",
              "      <td>710890c07b3f93b90635f8bff6c34605</td>\n",
              "      <td>332</td>\n",
              "      <td>224</td>\n",
              "      <td>258</td>\n",
              "      <td>9</td>\n",
              "      <td>0</td>\n",
              "      <td>475648</td>\n",
              "      <td>348672</td>\n",
              "      <td>0</td>\n",
              "      <td>319769</td>\n",
              "      <td>4096</td>\n",
              "      <td>483328</td>\n",
              "      <td>4194304.0</td>\n",
              "      <td>4096</td>\n",
              "      <td>512</td>\n",
              "      <td>5</td>\n",
              "      <td>0</td>\n",
              "      <td>0</td>\n",
              "      <td>0</td>\n",
              "      <td>5</td>\n",
              "      <td>0</td>\n",
              "      <td>856064</td>\n",
              "      <td>1024</td>\n",
              "      <td>1820725856</td>\n",
              "      <td>2</td>\n",
              "      <td>33088</td>\n",
              "      <td>1048576</td>\n",
              "      <td>4096</td>\n",
              "      <td>1048576</td>\n",
              "      <td>4096</td>\n",
              "      <td>0</td>\n",
              "      <td>16</td>\n",
              "      <td>5</td>\n",
              "      <td>5.139934</td>\n",
              "      <td>4.480790</td>\n",
              "      <td>6.558149</td>\n",
              "      <td>164864.000000</td>\n",
              "      <td>13824</td>\n",
              "      <td>475648</td>\n",
              "      <td>168145.200000</td>\n",
              "      <td>30840</td>\n",
              "      <td>475580</td>\n",
              "      <td>14</td>\n",
              "      <td>421</td>\n",
              "      <td>15</td>\n",
              "      <td>0</td>\n",
              "      <td>59</td>\n",
              "      <td>2.827826</td>\n",
              "      <td>0.960953</td>\n",
              "      <td>7.212329</td>\n",
              "      <td>2637.033898</td>\n",
              "      <td>20</td>\n",
              "      <td>67624</td>\n",
              "      <td>72</td>\n",
              "      <td>0</td>\n",
              "      <td>0</td>\n",
              "    </tr>\n",
              "    <tr>\n",
              "      <th>41328</th>\n",
              "      <td>VirusShare_3c2eb01508703752dca01957ea451a40</td>\n",
              "      <td>3c2eb01508703752dca01957ea451a40</td>\n",
              "      <td>332</td>\n",
              "      <td>224</td>\n",
              "      <td>259</td>\n",
              "      <td>9</td>\n",
              "      <td>0</td>\n",
              "      <td>157696</td>\n",
              "      <td>62464</td>\n",
              "      <td>0</td>\n",
              "      <td>67015</td>\n",
              "      <td>4096</td>\n",
              "      <td>163840</td>\n",
              "      <td>4194304.0</td>\n",
              "      <td>4096</td>\n",
              "      <td>512</td>\n",
              "      <td>5</td>\n",
              "      <td>0</td>\n",
              "      <td>0</td>\n",
              "      <td>0</td>\n",
              "      <td>5</td>\n",
              "      <td>0</td>\n",
              "      <td>233472</td>\n",
              "      <td>1024</td>\n",
              "      <td>272988</td>\n",
              "      <td>2</td>\n",
              "      <td>33024</td>\n",
              "      <td>1048576</td>\n",
              "      <td>4096</td>\n",
              "      <td>1048576</td>\n",
              "      <td>4096</td>\n",
              "      <td>0</td>\n",
              "      <td>16</td>\n",
              "      <td>4</td>\n",
              "      <td>4.819885</td>\n",
              "      <td>2.977365</td>\n",
              "      <td>6.485124</td>\n",
              "      <td>55040.000000</td>\n",
              "      <td>3584</td>\n",
              "      <td>157696</td>\n",
              "      <td>55626.750000</td>\n",
              "      <td>6700</td>\n",
              "      <td>157297</td>\n",
              "      <td>2</td>\n",
              "      <td>76</td>\n",
              "      <td>0</td>\n",
              "      <td>0</td>\n",
              "      <td>13</td>\n",
              "      <td>3.943296</td>\n",
              "      <td>1.814443</td>\n",
              "      <td>6.122045</td>\n",
              "      <td>2708.153846</td>\n",
              "      <td>132</td>\n",
              "      <td>9640</td>\n",
              "      <td>72</td>\n",
              "      <td>14</td>\n",
              "      <td>0</td>\n",
              "    </tr>\n",
              "    <tr>\n",
              "      <th>41329</th>\n",
              "      <td>VirusShare_3fb2d0ac00c5dff6c4fd5dfe6ba52c3f</td>\n",
              "      <td>3fb2d0ac00c5dff6c4fd5dfe6ba52c3f</td>\n",
              "      <td>332</td>\n",
              "      <td>224</td>\n",
              "      <td>259</td>\n",
              "      <td>83</td>\n",
              "      <td>82</td>\n",
              "      <td>724992</td>\n",
              "      <td>2306048</td>\n",
              "      <td>0</td>\n",
              "      <td>4243456</td>\n",
              "      <td>3522560</td>\n",
              "      <td>4308992</td>\n",
              "      <td>4194304.0</td>\n",
              "      <td>4096</td>\n",
              "      <td>4096</td>\n",
              "      <td>5</td>\n",
              "      <td>0</td>\n",
              "      <td>0</td>\n",
              "      <td>0</td>\n",
              "      <td>5</td>\n",
              "      <td>0</td>\n",
              "      <td>6709248</td>\n",
              "      <td>4096</td>\n",
              "      <td>3077047</td>\n",
              "      <td>2</td>\n",
              "      <td>32768</td>\n",
              "      <td>1048576</td>\n",
              "      <td>4096</td>\n",
              "      <td>1048576</td>\n",
              "      <td>4096</td>\n",
              "      <td>0</td>\n",
              "      <td>16</td>\n",
              "      <td>9</td>\n",
              "      <td>3.783125</td>\n",
              "      <td>0.000000</td>\n",
              "      <td>7.999518</td>\n",
              "      <td>336782.222222</td>\n",
              "      <td>0</td>\n",
              "      <td>1884160</td>\n",
              "      <td>744182.333333</td>\n",
              "      <td>2272</td>\n",
              "      <td>3061299</td>\n",
              "      <td>4</td>\n",
              "      <td>243</td>\n",
              "      <td>0</td>\n",
              "      <td>0</td>\n",
              "      <td>21</td>\n",
              "      <td>3.987463</td>\n",
              "      <td>2.642159</td>\n",
              "      <td>6.473700</td>\n",
              "      <td>14288.000000</td>\n",
              "      <td>76</td>\n",
              "      <td>270376</td>\n",
              "      <td>0</td>\n",
              "      <td>0</td>\n",
              "      <td>0</td>\n",
              "    </tr>\n",
              "    <tr>\n",
              "      <th>41330</th>\n",
              "      <td>VirusShare_ad1ca9a4d572c0a2793c4cea29b20887</td>\n",
              "      <td>ad1ca9a4d572c0a2793c4cea29b20887</td>\n",
              "      <td>332</td>\n",
              "      <td>224</td>\n",
              "      <td>258</td>\n",
              "      <td>10</td>\n",
              "      <td>0</td>\n",
              "      <td>120320</td>\n",
              "      <td>385024</td>\n",
              "      <td>0</td>\n",
              "      <td>61578</td>\n",
              "      <td>4096</td>\n",
              "      <td>126976</td>\n",
              "      <td>4194304.0</td>\n",
              "      <td>4096</td>\n",
              "      <td>512</td>\n",
              "      <td>5</td>\n",
              "      <td>1</td>\n",
              "      <td>0</td>\n",
              "      <td>0</td>\n",
              "      <td>5</td>\n",
              "      <td>1</td>\n",
              "      <td>528384</td>\n",
              "      <td>1024</td>\n",
              "      <td>566330</td>\n",
              "      <td>2</td>\n",
              "      <td>33088</td>\n",
              "      <td>1048576</td>\n",
              "      <td>4096</td>\n",
              "      <td>1048576</td>\n",
              "      <td>4096</td>\n",
              "      <td>0</td>\n",
              "      <td>16</td>\n",
              "      <td>5</td>\n",
              "      <td>5.646444</td>\n",
              "      <td>4.117264</td>\n",
              "      <td>7.962776</td>\n",
              "      <td>101068.800000</td>\n",
              "      <td>9728</td>\n",
              "      <td>330752</td>\n",
              "      <td>102623.800000</td>\n",
              "      <td>9404</td>\n",
              "      <td>339652</td>\n",
              "      <td>3</td>\n",
              "      <td>89</td>\n",
              "      <td>0</td>\n",
              "      <td>0</td>\n",
              "      <td>6</td>\n",
              "      <td>3.729824</td>\n",
              "      <td>2.458492</td>\n",
              "      <td>5.317552</td>\n",
              "      <td>2739.500000</td>\n",
              "      <td>48</td>\n",
              "      <td>9640</td>\n",
              "      <td>72</td>\n",
              "      <td>15</td>\n",
              "      <td>0</td>\n",
              "    </tr>\n",
              "    <tr>\n",
              "      <th>41331</th>\n",
              "      <td>VirusShare_7414edb3d0be66aa0816e6ed4b6b0a21</td>\n",
              "      <td>7414edb3d0be66aa0816e6ed4b6b0a21</td>\n",
              "      <td>332</td>\n",
              "      <td>224</td>\n",
              "      <td>259</td>\n",
              "      <td>10</td>\n",
              "      <td>0</td>\n",
              "      <td>233984</td>\n",
              "      <td>1377792</td>\n",
              "      <td>0</td>\n",
              "      <td>93120</td>\n",
              "      <td>4096</td>\n",
              "      <td>241664</td>\n",
              "      <td>4194304.0</td>\n",
              "      <td>4096</td>\n",
              "      <td>512</td>\n",
              "      <td>5</td>\n",
              "      <td>1</td>\n",
              "      <td>0</td>\n",
              "      <td>0</td>\n",
              "      <td>5</td>\n",
              "      <td>1</td>\n",
              "      <td>1630208</td>\n",
              "      <td>1024</td>\n",
              "      <td>1661509</td>\n",
              "      <td>2</td>\n",
              "      <td>33280</td>\n",
              "      <td>1048576</td>\n",
              "      <td>4096</td>\n",
              "      <td>1048576</td>\n",
              "      <td>4096</td>\n",
              "      <td>0</td>\n",
              "      <td>16</td>\n",
              "      <td>3</td>\n",
              "      <td>5.460681</td>\n",
              "      <td>3.139628</td>\n",
              "      <td>7.090099</td>\n",
              "      <td>537258.666667</td>\n",
              "      <td>5632</td>\n",
              "      <td>1372160</td>\n",
              "      <td>539602.666667</td>\n",
              "      <td>13316</td>\n",
              "      <td>1371856</td>\n",
              "      <td>1</td>\n",
              "      <td>80</td>\n",
              "      <td>0</td>\n",
              "      <td>0</td>\n",
              "      <td>18</td>\n",
              "      <td>4.328322</td>\n",
              "      <td>2.323220</td>\n",
              "      <td>7.068413</td>\n",
              "      <td>76158.277778</td>\n",
              "      <td>9</td>\n",
              "      <td>1342735</td>\n",
              "      <td>72</td>\n",
              "      <td>19</td>\n",
              "      <td>0</td>\n",
              "    </tr>\n",
              "    <tr>\n",
              "      <th>41332</th>\n",
              "      <td>VirusShare_e57b4f294c142d050a784b67e2cf1f2e</td>\n",
              "      <td>e57b4f294c142d050a784b67e2cf1f2e</td>\n",
              "      <td>332</td>\n",
              "      <td>224</td>\n",
              "      <td>271</td>\n",
              "      <td>6</td>\n",
              "      <td>0</td>\n",
              "      <td>49152</td>\n",
              "      <td>561152</td>\n",
              "      <td>0</td>\n",
              "      <td>33880</td>\n",
              "      <td>4096</td>\n",
              "      <td>53248</td>\n",
              "      <td>4194304.0</td>\n",
              "      <td>4096</td>\n",
              "      <td>4096</td>\n",
              "      <td>4</td>\n",
              "      <td>0</td>\n",
              "      <td>0</td>\n",
              "      <td>0</td>\n",
              "      <td>4</td>\n",
              "      <td>0</td>\n",
              "      <td>614400</td>\n",
              "      <td>4096</td>\n",
              "      <td>0</td>\n",
              "      <td>2</td>\n",
              "      <td>0</td>\n",
              "      <td>1048576</td>\n",
              "      <td>4096</td>\n",
              "      <td>1048576</td>\n",
              "      <td>4096</td>\n",
              "      <td>0</td>\n",
              "      <td>16</td>\n",
              "      <td>4</td>\n",
              "      <td>3.699258</td>\n",
              "      <td>0.000000</td>\n",
              "      <td>6.482974</td>\n",
              "      <td>19460.000000</td>\n",
              "      <td>16</td>\n",
              "      <td>49152</td>\n",
              "      <td>150074.000000</td>\n",
              "      <td>16</td>\n",
              "      <td>548460</td>\n",
              "      <td>4</td>\n",
              "      <td>119</td>\n",
              "      <td>10</td>\n",
              "      <td>0</td>\n",
              "      <td>0</td>\n",
              "      <td>0.000000</td>\n",
              "      <td>0.000000</td>\n",
              "      <td>0.000000</td>\n",
              "      <td>0.000000</td>\n",
              "      <td>0</td>\n",
              "      <td>0</td>\n",
              "      <td>0</td>\n",
              "      <td>0</td>\n",
              "      <td>0</td>\n",
              "    </tr>\n",
              "  </tbody>\n",
              "</table>\n",
              "</div>\n",
              "    <div class=\"colab-df-buttons\">\n",
              "\n",
              "  <div class=\"colab-df-container\">\n",
              "    <button class=\"colab-df-convert\" onclick=\"convertToInteractive('df-315d711b-8c6b-492e-bc68-0af22407037d')\"\n",
              "            title=\"Convert this dataframe to an interactive table.\"\n",
              "            style=\"display:none;\">\n",
              "\n",
              "  <svg xmlns=\"http://www.w3.org/2000/svg\" height=\"24px\" viewBox=\"0 -960 960 960\">\n",
              "    <path d=\"M120-120v-720h720v720H120Zm60-500h600v-160H180v160Zm220 220h160v-160H400v160Zm0 220h160v-160H400v160ZM180-400h160v-160H180v160Zm440 0h160v-160H620v160ZM180-180h160v-160H180v160Zm440 0h160v-160H620v160Z\"/>\n",
              "  </svg>\n",
              "    </button>\n",
              "\n",
              "  <style>\n",
              "    .colab-df-container {\n",
              "      display:flex;\n",
              "      gap: 12px;\n",
              "    }\n",
              "\n",
              "    .colab-df-convert {\n",
              "      background-color: #E8F0FE;\n",
              "      border: none;\n",
              "      border-radius: 50%;\n",
              "      cursor: pointer;\n",
              "      display: none;\n",
              "      fill: #1967D2;\n",
              "      height: 32px;\n",
              "      padding: 0 0 0 0;\n",
              "      width: 32px;\n",
              "    }\n",
              "\n",
              "    .colab-df-convert:hover {\n",
              "      background-color: #E2EBFA;\n",
              "      box-shadow: 0px 1px 2px rgba(60, 64, 67, 0.3), 0px 1px 3px 1px rgba(60, 64, 67, 0.15);\n",
              "      fill: #174EA6;\n",
              "    }\n",
              "\n",
              "    .colab-df-buttons div {\n",
              "      margin-bottom: 4px;\n",
              "    }\n",
              "\n",
              "    [theme=dark] .colab-df-convert {\n",
              "      background-color: #3B4455;\n",
              "      fill: #D2E3FC;\n",
              "    }\n",
              "\n",
              "    [theme=dark] .colab-df-convert:hover {\n",
              "      background-color: #434B5C;\n",
              "      box-shadow: 0px 1px 3px 1px rgba(0, 0, 0, 0.15);\n",
              "      filter: drop-shadow(0px 1px 2px rgba(0, 0, 0, 0.3));\n",
              "      fill: #FFFFFF;\n",
              "    }\n",
              "  </style>\n",
              "\n",
              "    <script>\n",
              "      const buttonEl =\n",
              "        document.querySelector('#df-315d711b-8c6b-492e-bc68-0af22407037d button.colab-df-convert');\n",
              "      buttonEl.style.display =\n",
              "        google.colab.kernel.accessAllowed ? 'block' : 'none';\n",
              "\n",
              "      async function convertToInteractive(key) {\n",
              "        const element = document.querySelector('#df-315d711b-8c6b-492e-bc68-0af22407037d');\n",
              "        const dataTable =\n",
              "          await google.colab.kernel.invokeFunction('convertToInteractive',\n",
              "                                                    [key], {});\n",
              "        if (!dataTable) return;\n",
              "\n",
              "        const docLinkHtml = 'Like what you see? Visit the ' +\n",
              "          '<a target=\"_blank\" href=https://colab.research.google.com/notebooks/data_table.ipynb>data table notebook</a>'\n",
              "          + ' to learn more about interactive tables.';\n",
              "        element.innerHTML = '';\n",
              "        dataTable['output_type'] = 'display_data';\n",
              "        await google.colab.output.renderOutput(dataTable, element);\n",
              "        const docLink = document.createElement('div');\n",
              "        docLink.innerHTML = docLinkHtml;\n",
              "        element.appendChild(docLink);\n",
              "      }\n",
              "    </script>\n",
              "  </div>\n",
              "\n",
              "\n",
              "<div id=\"df-e388d878-b1a6-4595-b8d1-451124f5f584\">\n",
              "  <button class=\"colab-df-quickchart\" onclick=\"quickchart('df-e388d878-b1a6-4595-b8d1-451124f5f584')\"\n",
              "            title=\"Suggest charts\"\n",
              "            style=\"display:none;\">\n",
              "\n",
              "<svg xmlns=\"http://www.w3.org/2000/svg\" height=\"24px\"viewBox=\"0 0 24 24\"\n",
              "     width=\"24px\">\n",
              "    <g>\n",
              "        <path d=\"M19 3H5c-1.1 0-2 .9-2 2v14c0 1.1.9 2 2 2h14c1.1 0 2-.9 2-2V5c0-1.1-.9-2-2-2zM9 17H7v-7h2v7zm4 0h-2V7h2v10zm4 0h-2v-4h2v4z\"/>\n",
              "    </g>\n",
              "</svg>\n",
              "  </button>\n",
              "\n",
              "<style>\n",
              "  .colab-df-quickchart {\n",
              "      --bg-color: #E8F0FE;\n",
              "      --fill-color: #1967D2;\n",
              "      --hover-bg-color: #E2EBFA;\n",
              "      --hover-fill-color: #174EA6;\n",
              "      --disabled-fill-color: #AAA;\n",
              "      --disabled-bg-color: #DDD;\n",
              "  }\n",
              "\n",
              "  [theme=dark] .colab-df-quickchart {\n",
              "      --bg-color: #3B4455;\n",
              "      --fill-color: #D2E3FC;\n",
              "      --hover-bg-color: #434B5C;\n",
              "      --hover-fill-color: #FFFFFF;\n",
              "      --disabled-bg-color: #3B4455;\n",
              "      --disabled-fill-color: #666;\n",
              "  }\n",
              "\n",
              "  .colab-df-quickchart {\n",
              "    background-color: var(--bg-color);\n",
              "    border: none;\n",
              "    border-radius: 50%;\n",
              "    cursor: pointer;\n",
              "    display: none;\n",
              "    fill: var(--fill-color);\n",
              "    height: 32px;\n",
              "    padding: 0;\n",
              "    width: 32px;\n",
              "  }\n",
              "\n",
              "  .colab-df-quickchart:hover {\n",
              "    background-color: var(--hover-bg-color);\n",
              "    box-shadow: 0 1px 2px rgba(60, 64, 67, 0.3), 0 1px 3px 1px rgba(60, 64, 67, 0.15);\n",
              "    fill: var(--button-hover-fill-color);\n",
              "  }\n",
              "\n",
              "  .colab-df-quickchart-complete:disabled,\n",
              "  .colab-df-quickchart-complete:disabled:hover {\n",
              "    background-color: var(--disabled-bg-color);\n",
              "    fill: var(--disabled-fill-color);\n",
              "    box-shadow: none;\n",
              "  }\n",
              "\n",
              "  .colab-df-spinner {\n",
              "    border: 2px solid var(--fill-color);\n",
              "    border-color: transparent;\n",
              "    border-bottom-color: var(--fill-color);\n",
              "    animation:\n",
              "      spin 1s steps(1) infinite;\n",
              "  }\n",
              "\n",
              "  @keyframes spin {\n",
              "    0% {\n",
              "      border-color: transparent;\n",
              "      border-bottom-color: var(--fill-color);\n",
              "      border-left-color: var(--fill-color);\n",
              "    }\n",
              "    20% {\n",
              "      border-color: transparent;\n",
              "      border-left-color: var(--fill-color);\n",
              "      border-top-color: var(--fill-color);\n",
              "    }\n",
              "    30% {\n",
              "      border-color: transparent;\n",
              "      border-left-color: var(--fill-color);\n",
              "      border-top-color: var(--fill-color);\n",
              "      border-right-color: var(--fill-color);\n",
              "    }\n",
              "    40% {\n",
              "      border-color: transparent;\n",
              "      border-right-color: var(--fill-color);\n",
              "      border-top-color: var(--fill-color);\n",
              "    }\n",
              "    60% {\n",
              "      border-color: transparent;\n",
              "      border-right-color: var(--fill-color);\n",
              "    }\n",
              "    80% {\n",
              "      border-color: transparent;\n",
              "      border-right-color: var(--fill-color);\n",
              "      border-bottom-color: var(--fill-color);\n",
              "    }\n",
              "    90% {\n",
              "      border-color: transparent;\n",
              "      border-bottom-color: var(--fill-color);\n",
              "    }\n",
              "  }\n",
              "</style>\n",
              "\n",
              "  <script>\n",
              "    async function quickchart(key) {\n",
              "      const quickchartButtonEl =\n",
              "        document.querySelector('#' + key + ' button');\n",
              "      quickchartButtonEl.disabled = true;  // To prevent multiple clicks.\n",
              "      quickchartButtonEl.classList.add('colab-df-spinner');\n",
              "      try {\n",
              "        const charts = await google.colab.kernel.invokeFunction(\n",
              "            'suggestCharts', [key], {});\n",
              "      } catch (error) {\n",
              "        console.error('Error during call to suggestCharts:', error);\n",
              "      }\n",
              "      quickchartButtonEl.classList.remove('colab-df-spinner');\n",
              "      quickchartButtonEl.classList.add('colab-df-quickchart-complete');\n",
              "    }\n",
              "    (() => {\n",
              "      let quickchartButtonEl =\n",
              "        document.querySelector('#df-e388d878-b1a6-4595-b8d1-451124f5f584 button');\n",
              "      quickchartButtonEl.style.display =\n",
              "        google.colab.kernel.accessAllowed ? 'block' : 'none';\n",
              "    })();\n",
              "  </script>\n",
              "</div>\n",
              "    </div>\n",
              "  </div>\n"
            ],
            "application/vnd.google.colaboratory.intrinsic+json": {
              "type": "dataframe",
              "variable_name": "malware"
            }
          },
          "metadata": {},
          "execution_count": 4
        }
      ]
    },
    {
      "cell_type": "markdown",
      "source": [
        "**FIX THE IMBALANCE DATA THROUGH SMOTE**"
      ],
      "metadata": {
        "id": "hLUmpma110qb"
      }
    },
    {
      "cell_type": "code",
      "source": [
        "X_data = malData.drop(['Name', 'md5', 'legitimate'], axis=1).values\n",
        "y_label = malData['legitimate'].values"
      ],
      "metadata": {
        "id": "fhiYe5sH2D9U"
      },
      "execution_count": null,
      "outputs": []
    },
    {
      "cell_type": "code",
      "source": [
        "from imblearn.over_sampling import SMOTE"
      ],
      "metadata": {
        "id": "9ogLKDDYiZe_"
      },
      "execution_count": null,
      "outputs": []
    },
    {
      "cell_type": "code",
      "source": [
        "smote = SMOTE(random_state=42)\n",
        "X_resampled, y_resampled = smote.fit_resample(X_data, y_label)"
      ],
      "metadata": {
        "id": "JwlrC9hgicRu"
      },
      "execution_count": null,
      "outputs": []
    },
    {
      "cell_type": "code",
      "source": [
        "import seaborn as sns"
      ],
      "metadata": {
        "id": "lcz8Kq9Ti83n"
      },
      "execution_count": null,
      "outputs": []
    },
    {
      "cell_type": "code",
      "source": [
        "sns.countplot(x=y_resampled)"
      ],
      "metadata": {
        "colab": {
          "base_uri": "https://localhost:8080/",
          "height": 447
        },
        "id": "dI7r9RQ7i-QG",
        "outputId": "529092ec-58c7-415b-a9e7-6048450b8f75"
      },
      "execution_count": null,
      "outputs": [
        {
          "output_type": "execute_result",
          "data": {
            "text/plain": [
              "<Axes: ylabel='count'>"
            ]
          },
          "metadata": {},
          "execution_count": 6
        },
        {
          "output_type": "display_data",
          "data": {
            "text/plain": [
              "<Figure size 640x480 with 1 Axes>"
            ],
            "image/png": "[encoded data removed]"
          },
          "metadata": {}
        }
      ]
    },
    {
      "cell_type": "markdown",
      "source": [
        "**END OF CODE FOR BALANCING THE DATA (SMOTE)**"
      ],
      "metadata": {
        "id": "IdDpDeJy16Wn"
      }
    },
    {
      "cell_type": "code",
      "source": [
        "from sklearn.ensemble import ExtraTreesClassifier\n",
        "from sklearn.feature_selection import SelectFromModel\n",
        "from sklearn.model_selection import train_test_split"
      ],
      "metadata": {
        "id": "qL3Iv8Y9EGzW"
      },
      "execution_count": null,
      "outputs": []
    },
    {
      "cell_type": "code",
      "source": [
        "# input_data = malData.drop(['Name', 'md5', 'legitimate'], axis=1).values\n",
        "# label = malData['legitimate'].values"
      ],
      "metadata": {
        "id": "3iYDi3kLF0iv"
      },
      "execution_count": null,
      "outputs": []
    },
    {
      "cell_type": "code",
      "source": [
        "extraTrees = ExtraTreesClassifier().fit(X_data, y_label)\n",
        "selected = SelectFromModel(extraTrees, prefit=True)\n",
        "newInput_data = selected.transform(X_data)\n",
        "print(X_data.shape, newInput_data.shape)"
      ],
      "metadata": {
        "colab": {
          "base_uri": "https://localhost:8080/"
        },
        "id": "2X7WdzUQGTfy",
        "outputId": "2239342a-7738-49ed-9e87-2b089e679ffe"
      },
      "execution_count": null,
      "outputs": [
        {
          "output_type": "stream",
          "name": "stdout",
          "text": [
            "(138047, 54) (138047, 13)\n"
          ]
        }
      ]
    },
    {
      "cell_type": "code",
      "source": [
        "import numpy as np\n",
        "features = newInput_data.shape[1]\n",
        "importances = extraTrees.feature_importances_\n",
        "indices = np.argsort(importances)[::-1]"
      ],
      "metadata": {
        "id": "Dzmm1UfPG-tb"
      },
      "execution_count": null,
      "outputs": []
    },
    {
      "cell_type": "code",
      "source": [
        "print(indices)"
      ],
      "metadata": {
        "colab": {
          "base_uri": "https://localhost:8080/"
        },
        "id": "0vW8r0iZJz3Q",
        "outputId": "8f280c4c-27a2-48eb-9ab7-32e6ec122863"
      },
      "execution_count": null,
      "outputs": [
        {
          "output_type": "stream",
          "name": "stdout",
          "text": [
            "[24  0  2 53 34 23 18 11 47 48  1 14 33 32 50 31 15 22 25  4 19 46 13 41\n",
            " 52 16  3 42 21 39 12  8 17 43 36 45 44 27 40  5 26 20 35 38 51 49 10 37\n",
            "  6  9  7 28 30 29]\n"
          ]
        }
      ]
    },
    {
      "cell_type": "code",
      "source": [
        "for f in range(features):\n",
        "  print(\"%d\"%(f+1), malData.columns[2+indices[f]], importances[indices[f]])"
      ],
      "metadata": {
        "colab": {
          "base_uri": "https://localhost:8080/"
        },
        "id": "C2T_algMHy8G",
        "outputId": "968839e3-af53-4a9a-8e75-2ba3572725ff"
      },
      "execution_count": null,
      "outputs": [
        {
          "output_type": "stream",
          "name": "stdout",
          "text": [
            "1 DllCharacteristics 0.15402726564939265\n",
            "2 Machine 0.12128189815572422\n",
            "3 Characteristics 0.08247444318826395\n",
            "4 VersionInformationSize 0.0700053063470577\n",
            "5 SectionsMaxEntropy 0.06405233423691523\n",
            "6 Subsystem 0.05342989030975582\n",
            "7 MajorSubsystemVersion 0.053269450809353115\n",
            "8 ImageBase 0.053133569630571226\n",
            "9 ResourcesMinEntropy 0.04653609073817616\n",
            "10 ResourcesMaxEntropy 0.04309254476319295\n",
            "11 SizeOfOptionalHeader 0.030930154000071586\n",
            "12 MajorOperatingSystemVersion 0.022084303226596807\n",
            "13 SectionsMinEntropy 0.019202289774655643\n"
          ]
        }
      ]
    },
    {
      "cell_type": "code",
      "source": [
        "X_train, X_test, y_train, y_test = train_test_split(newInput_data, y_label, test_size=0.2, random_state=42)"
      ],
      "metadata": {
        "id": "X9pRwZCkKSv-"
      },
      "execution_count": null,
      "outputs": []
    },
    {
      "cell_type": "code",
      "source": [
        "from sklearn.ensemble import RandomForestClassifier\n",
        "classif = RandomForestClassifier(n_estimators=50)\n",
        "classif.fit(X_train, y_train)"
      ],
      "metadata": {
        "colab": {
          "base_uri": "https://localhost:8080/",
          "height": 75
        },
        "id": "yiS8LXYzMuzC",
        "outputId": "357b406d-9b8b-46fe-ecc3-39a4dfae0366"
      },
      "execution_count": null,
      "outputs": [
        {
          "output_type": "execute_result",
          "data": {
            "text/plain": [
              "RandomForestClassifier(n_estimators=50)"
            ],
            "text/html": [
              "<style>#sk-container-id-1 {color: black;background-color: white;}#sk-container-id-1 pre{padding: 0;}#sk-container-id-1 div.sk-toggleable {background-color: white;}#sk-container-id-1 label.sk-toggleable__label {cursor: pointer;display: block;width: 100%;margin-bottom: 0;padding: 0.3em;box-sizing: border-box;text-align: center;}#sk-container-id-1 label.sk-toggleable__label-arrow:before {content: \"▸\";float: left;margin-right: 0.25em;color: #696969;}#sk-container-id-1 label.sk-toggleable__label-arrow:hover:before {color: black;}#sk-container-id-1 div.sk-estimator:hover label.sk-toggleable__label-arrow:before {color: black;}#sk-container-id-1 div.sk-toggleable__content {max-height: 0;max-width: 0;overflow: hidden;text-align: left;background-color: #f0f8ff;}#sk-container-id-1 div.sk-toggleable__content pre {margin: 0.2em;color: black;border-radius: 0.25em;background-color: #f0f8ff;}#sk-container-id-1 input.sk-toggleable__control:checked~div.sk-toggleable__content {max-height: 200px;max-width: 100%;overflow: auto;}#sk-container-id-1 input.sk-toggleable__control:checked~label.sk-toggleable__label-arrow:before {content: \"▾\";}#sk-container-id-1 div.sk-estimator input.sk-toggleable__control:checked~label.sk-toggleable__label {background-color: #d4ebff;}#sk-container-id-1 div.sk-label input.sk-toggleable__control:checked~label.sk-toggleable__label {background-color: #d4ebff;}#sk-container-id-1 input.sk-hidden--visually {border: 0;clip: rect(1px 1px 1px 1px);clip: rect(1px, 1px, 1px, 1px);height: 1px;margin: -1px;overflow: hidden;padding: 0;position: absolute;width: 1px;}#sk-container-id-1 div.sk-estimator {font-family: monospace;background-color: #f0f8ff;border: 1px dotted black;border-radius: 0.25em;box-sizing: border-box;margin-bottom: 0.5em;}#sk-container-id-1 div.sk-estimator:hover {background-color: #d4ebff;}#sk-container-id-1 div.sk-parallel-item::after {content: \"\";width: 100%;border-bottom: 1px solid gray;flex-grow: 1;}#sk-container-id-1 div.sk-label:hover label.sk-toggleable__label {background-color: #d4ebff;}#sk-container-id-1 div.sk-serial::before {content: \"\";position: absolute;border-left: 1px solid gray;box-sizing: border-box;top: 0;bottom: 0;left: 50%;z-index: 0;}#sk-container-id-1 div.sk-serial {display: flex;flex-direction: column;align-items: center;background-color: white;padding-right: 0.2em;padding-left: 0.2em;position: relative;}#sk-container-id-1 div.sk-item {position: relative;z-index: 1;}#sk-container-id-1 div.sk-parallel {display: flex;align-items: stretch;justify-content: center;background-color: white;position: relative;}#sk-container-id-1 div.sk-item::before, #sk-container-id-1 div.sk-parallel-item::before {content: \"\";position: absolute;border-left: 1px solid gray;box-sizing: border-box;top: 0;bottom: 0;left: 50%;z-index: -1;}#sk-container-id-1 div.sk-parallel-item {display: flex;flex-direction: column;z-index: 1;position: relative;background-color: white;}#sk-container-id-1 div.sk-parallel-item:first-child::after {align-self: flex-end;width: 50%;}#sk-container-id-1 div.sk-parallel-item:last-child::after {align-self: flex-start;width: 50%;}#sk-container-id-1 div.sk-parallel-item:only-child::after {width: 0;}#sk-container-id-1 div.sk-dashed-wrapped {border: 1px dashed gray;margin: 0 0.4em 0.5em 0.4em;box-sizing: border-box;padding-bottom: 0.4em;background-color: white;}#sk-container-id-1 div.sk-label label {font-family: monospace;font-weight: bold;display: inline-block;line-height: 1.2em;}#sk-container-id-1 div.sk-label-container {text-align: center;}#sk-container-id-1 div.sk-container {/* jupyter's `normalize.less` sets `[hidden] { display: none; }` but bootstrap.min.css set `[hidden] { display: none !important; }` so we also need the `!important` here to be able to override the default hidden behavior on the sphinx rendered scikit-learn.org. See: https://github.com/scikit-learn/scikit-learn/issues/21755 */display: inline-block !important;position: relative;}#sk-container-id-1 div.sk-text-repr-fallback {display: none;}</style><div id=\"sk-container-id-1\" class=\"sk-top-container\"><div class=\"sk-text-repr-fallback\"><pre>RandomForestClassifier(n_estimators=50)</pre><b>In a Jupyter environment, please rerun this cell to show the HTML representation or trust the notebook. <br />On GitHub, the HTML representation is unable to render, please try loading this page with nbviewer.org.</b></div><div class=\"sk-container\" hidden><div class=\"sk-item\"><div class=\"sk-estimator sk-toggleable\"><input class=\"sk-toggleable__control sk-hidden--visually\" id=\"sk-estimator-id-1\" type=\"checkbox\" checked><label for=\"sk-estimator-id-1\" class=\"sk-toggleable__label sk-toggleable__label-arrow\">RandomForestClassifier</label><div class=\"sk-toggleable__content\"><pre>RandomForestClassifier(n_estimators=50)</pre></div></div></div></div></div>"
            ]
          },
          "metadata": {},
          "execution_count": 13
        }
      ]
    },
    {
      "cell_type": "code",
      "source": [
        "from sklearn.metrics import accuracy_score, precision_score, recall_score, f1_score"
      ],
      "metadata": {
        "id": "qfbEgQ5HNiGI"
      },
      "execution_count": null,
      "outputs": []
    },
    {
      "cell_type": "code",
      "source": [
        "y_pred = classif.predict(X_test)\n",
        "accuracy = accuracy_score(y_test, y_pred)\n",
        "recall = recall_score(y_test, y_pred, average='weighted')\n",
        "precision = precision_score(y_test, y_pred, average='weighted')\n",
        "f1s = f1_score(y_test, y_pred, average='weighted')\n",
        "\n",
        "print(\"Accuracy: \"+ \"{:.2%}\".format(accuracy))\n",
        "print(\"Recall: \"+ \"{:.2%}\".format(recall))\n",
        "print(\"Precision: \"+ \"{:.2%}\".format(precision))\n",
        "print(\"F1-Score: \"+ \"{:.2%}\".format(f1s))"
      ],
      "metadata": {
        "colab": {
          "base_uri": "https://localhost:8080/"
        },
        "id": "5MYuAhQcN2GF",
        "outputId": "1697fc48-4d0e-4909-d785-bd309ce59220"
      },
      "execution_count": null,
      "outputs": [
        {
          "output_type": "stream",
          "name": "stdout",
          "text": [
            "Accuracy: 99.45%\n",
            "Recall: 99.45%\n",
            "Precision: 99.45%\n",
            "F1-Score: 99.45%\n"
          ]
        }
      ]
    },
    {
      "cell_type": "code",
      "source": [
        "columns_need = ['DllCharacteristics','Characteristics','Machine','SectionsMaxEntropy','ResourcesMaxEntropy','Subsystem','VersionInformationSize','ImageBase','MajorSubsystemVersion','SizeOfOptionalHeader','SectionsMinEntropy','ResourcesMinEntropy']"
      ],
      "metadata": {
        "id": "p0bX6DNPQh7H"
      },
      "execution_count": null,
      "outputs": []
    },
    {
      "cell_type": "code",
      "source": [
        "sample_input = malData.iloc[41323][columns_need]"
      ],
      "metadata": {
        "id": "NMqsPgvpN4QB"
      },
      "execution_count": null,
      "outputs": []
    },
    {
      "cell_type": "code",
      "source": [
        "sample_input_values = sample_input.values\n",
        "sample_input_values\n",
        "siv = [[33088, 258, 332, 6.29682587021, 7.67709054366, 2, 0, 4194304.0, 5,\n",
        "       224, 2.37894684003, 1.44168828354]]"
      ],
      "metadata": {
        "id": "pU2QeXE3O2BD"
      },
      "execution_count": null,
      "outputs": []
    },
    {
      "cell_type": "code",
      "source": [
        "siv_outside = [[33120, 34404, 34, 5368709120, 0, 7.826605,  2, 6, 7.892101, 2.389643,112, 6, 0.0]]"
      ],
      "metadata": {
        "id": "9pXxx0LSzJI7"
      },
      "execution_count": null,
      "outputs": []
    },
    {
      "cell_type": "code",
      "source": [
        "pred = classif.predict(siv_outside)"
      ],
      "metadata": {
        "id": "CMQtaBO3RZ6k"
      },
      "execution_count": null,
      "outputs": []
    },
    {
      "cell_type": "code",
      "source": [
        "pred"
      ],
      "metadata": {
        "colab": {
          "base_uri": "https://localhost:8080/"
        },
        "id": "27oLrImzSNnp",
        "outputId": "720eea43-ebe3-4bd4-e926-e88dfc9e00bf"
      },
      "execution_count": null,
      "outputs": [
        {
          "output_type": "execute_result",
          "data": {
            "text/plain": [
              "array([1])"
            ]
          },
          "metadata": {},
          "execution_count": 27
        }
      ]
    },
    {
      "cell_type": "code",
      "source": [
        "/content/malwareDetectionJ"
      ],
      "metadata": {
        "id": "FtBdTiyeS7p9"
      },
      "execution_count": null,
      "outputs": []
    },
    {
      "cell_type": "markdown",
      "source": [
        "**DEPLOYING THE MODEL THROUGH PICKLE**"
      ],
      "metadata": {
        "id": "f3b6KqfPBpbC"
      }
    },
    {
      "cell_type": "code",
      "source": [
        "import pickle"
      ],
      "metadata": {
        "id": "Mp6tkYIxBwAq"
      },
      "execution_count": null,
      "outputs": []
    },
    {
      "cell_type": "code",
      "source": [
        "pickle.dump(classif, open('/content/malwareDetection', 'wb'))"
      ],
      "metadata": {
        "id": "k56t3FGOByEq"
      },
      "execution_count": null,
      "outputs": []
    },
    {
      "cell_type": "code",
      "source": [
        "model_saved = pickle.load(open('/content/malwareDetection', 'rb'))"
      ],
      "metadata": {
        "id": "VRDNDMflMpbL"
      },
      "execution_count": null,
      "outputs": []
    },
    {
      "cell_type": "code",
      "source": [
        "input_test = [33120, 34404, 34, 5368709120, 0, 7.826605,  2, 6, 7.892101, 2.389643,112, 6, 0.0]"
      ],
      "metadata": {
        "id": "_ii_f2QEM5el"
      },
      "execution_count": null,
      "outputs": []
    },
    {
      "cell_type": "code",
      "source": [
        "test_outcome = model_saved.predict(input_test)"
      ],
      "metadata": {
        "id": "KgTz1A9NPXy9"
      },
      "execution_count": null,
      "outputs": []
    },
    {
      "cell_type": "code",
      "source": [
        "test_outcome"
      ],
      "metadata": {
        "colab": {
          "base_uri": "https://localhost:8080/"
        },
        "id": "FE9p7sAmPeGQ",
        "outputId": "84d33877-d454-481c-842b-3561006bb7ba"
      },
      "execution_count": null,
      "outputs": [
        {
          "output_type": "execute_result",
          "data": {
            "text/plain": [
              "array([1])"
            ]
          },
          "metadata": {},
          "execution_count": 21
        }
      ]
    },
    {
      "cell_type": "code",
      "source": [
        "import joblib"
      ],
      "metadata": {
        "id": "rU1Bo2LEPfcT"
      },
      "execution_count": null,
      "outputs": []
    },
    {
      "cell_type": "code",
      "source": [
        "joblib.dump(classif, 'malwareDetection_SMOTED.joblib')"
      ],
      "metadata": {
        "colab": {
          "base_uri": "https://localhost:8080/"
        },
        "id": "BN1Q5WWfUzEb",
        "outputId": "ca250147-4442-4e73-f83d-9d57a285d8fc"
      },
      "execution_count": null,
      "outputs": [
        {
          "output_type": "execute_result",
          "data": {
            "text/plain": [
              "['malwareDetection_SMOTED.joblib']"
            ]
          },
          "metadata": {},
          "execution_count": 17
        }
      ]
    },
    {
      "cell_type": "code",
      "source": [
        "model_saved2 = joblib.load('/content/malwareDetectionTAMANATO.joblib')"
      ],
      "metadata": {
        "id": "Hm-FEdlCU0AH"
      },
      "execution_count": null,
      "outputs": []
    },
    {
      "cell_type": "code",
      "source": [
        "test_outcome2 = model_saved2.predict([input_test])"
      ],
      "metadata": {
        "id": "GgoKwds_VFdQ"
      },
      "execution_count": null,
      "outputs": []
    },
    {
      "cell_type": "code",
      "source": [
        "test_outcome2"
      ],
      "metadata": {
        "colab": {
          "base_uri": "https://localhost:8080/"
        },
        "id": "o4LwmMhMVRpa",
        "outputId": "98cb485b-f6fc-4d55-c296-a87b5829a213"
      },
      "execution_count": null,
      "outputs": [
        {
          "output_type": "execute_result",
          "data": {
            "text/plain": [
              "array([1])"
            ]
          },
          "metadata": {},
          "execution_count": 34
        }
      ]
    },
    {
      "cell_type": "code",
      "source": [],
      "metadata": {
        "id": "DCl0nKDSVSUc"
      },
      "execution_count": null,
      "outputs": []
    }
  ]
}